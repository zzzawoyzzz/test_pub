{
 "cells": [
  {
   "cell_type": "code",
   "execution_count": 37,
   "id": "6db9b214",
   "metadata": {},
   "outputs": [
    {
     "name": "stderr",
     "output_type": "stream",
     "text": [
      "\r",
      "[Stage 47:==========================================================(2 + 0) / 2]\r",
      "\r",
      "                                                                                \r"
     ]
    }
   ],
   "source": [
    "#audible_data = spark.sql(\"select * from result\")\n",
    "dt_clean = spark.read.csv('gs://dataproc-staging-asia-southeast2-537169427832-9rlydjvh/google-cloud-dataproc-metainfo/f0bb62b5-0e85-4a7c-9fa0-c407c0582d85/cluster-awoy-m/ws2_data.csv', header = True, inferSchema = True, )"
   ]
  },
  {
   "cell_type": "code",
   "execution_count": 38,
   "id": "fbf2f10f",
   "metadata": {},
   "outputs": [
    {
     "name": "stdout",
     "output_type": "stream",
     "text": [
      "+-------------------+--------+-------+--------------------+-----+\n",
      "|          timestamp| user_id|book_id|             country|price|\n",
      "+-------------------+--------+-------+--------------------+-----+\n",
      "|2021-05-01 08:03:44|824dc295|      2|              Israel|24.95|\n",
      "|2021-05-02 02:48:34|f80fe106|      6|            Thailand|31.49|\n",
      "|2021-05-01 16:54:57|01cb9fe0|      9|               Italy|29.65|\n",
      "|2021-05-01 21:45:28|59508f47|     13|        South Africa| 22.4|\n",
      "|2021-05-01 14:50:52|3553ebbb|     14|              Canada| 28.0|\n",
      "|2021-05-01 08:41:48|ea28260a|     16|United States of ...|31.18|\n",
      "|2021-05-01 05:51:43|ff44767e|     18|United States of ...|59.99|\n",
      "|2021-05-01 00:01:09|b07799e7|     20|              Canada| 28.0|\n",
      "|2021-05-01 00:21:24|9d2e93c8|     20|             Hungary| 28.0|\n",
      "|2021-05-01 01:34:23|612db483|     20|              Sweden| 28.0|\n",
      "|2021-05-01 01:42:10|afad01ae|     20|              France| 28.0|\n",
      "|2021-05-01 03:38:00|3b68cda1|     20|              Canada| 28.0|\n",
      "|2021-05-01 04:32:25|c9a899f6|     20|United States of ...| 28.0|\n",
      "|2021-05-01 04:48:06|d15f0e77|     20|United States of ...| 28.0|\n",
      "|2021-05-01 05:00:49|032e717b|     20|              Turkey| 28.0|\n",
      "|2021-05-01 06:20:44|a8558738|     20|United States of ...| 28.0|\n",
      "|2021-05-01 06:46:35|b0ef795f|     20|         Philippines| 28.0|\n",
      "|2021-05-01 07:33:54|c46cc3da|     20|United States of ...| 28.0|\n",
      "|2021-05-01 09:14:11|54bd51eb|     20|              Brazil| 28.0|\n",
      "|2021-05-01 10:01:44|c52587cc|     20|              Canada| 28.0|\n",
      "+-------------------+--------+-------+--------------------+-----+\n",
      "only showing top 20 rows\n",
      "\n"
     ]
    }
   ],
   "source": [
    "from pyspark.sql import functions as f\n",
    "\n",
    "dt_clean = dt.withColumn(\"timestamp\",\n",
    "                        f.to_timestamp(dt.timestamp, 'yyyy-MM-dd HH:mm:ss')\n",
    "                        )\n",
    "dt_clean.show()"
   ]
  },
  {
   "cell_type": "code",
   "execution_count": 39,
   "id": "7062378c",
   "metadata": {},
   "outputs": [],
   "source": [
    "# สำคัญ: เปลี่ยน aaa เป็นชื่อประเทศที่คุณคิดว่าผิด และ bbb เป็นชื่อประเทศที่ถูกต้อง\n",
    "from pyspark.sql.functions import when\n",
    "\n",
    "dt_clean_country = dt_clean.withColumn(\"CountryUpdate\", when(dt_clean['Country'] == 'Japane', 'Japan').otherwise(dt_clean['Country']))\n",
    "dt_clean = dt_clean_country.drop(\"Country\").withColumnRenamed('CountryUpdate', 'Country')"
   ]
  },
  {
   "cell_type": "code",
   "execution_count": 40,
   "id": "349cfb85",
   "metadata": {},
   "outputs": [
    {
     "name": "stdout",
     "output_type": "stream",
     "text": [
      "+-------------------+--------+-------+-----+--------------------+\n",
      "|          timestamp| user_id|book_id|price|             Country|\n",
      "+-------------------+--------+-------+-----+--------------------+\n",
      "|2021-05-01 08:03:44|824dc295|      2|24.95|              Israel|\n",
      "|2021-05-02 02:48:34|f80fe106|      6|31.49|            Thailand|\n",
      "|2021-05-01 16:54:57|01cb9fe0|      9|29.65|               Italy|\n",
      "|2021-05-01 21:45:28|59508f47|     13| 22.4|        South Africa|\n",
      "|2021-05-01 14:50:52|3553ebbb|     14| 28.0|              Canada|\n",
      "|2021-05-01 08:41:48|ea28260a|     16|31.18|United States of ...|\n",
      "|2021-05-01 05:51:43|ff44767e|     18|59.99|United States of ...|\n",
      "|2021-05-01 00:01:09|b07799e7|     20| 28.0|              Canada|\n",
      "|2021-05-01 00:21:24|9d2e93c8|     20| 28.0|             Hungary|\n",
      "|2021-05-01 01:34:23|612db483|     20| 28.0|              Sweden|\n",
      "|2021-05-01 01:42:10|afad01ae|     20| 28.0|              France|\n",
      "|2021-05-01 03:38:00|3b68cda1|     20| 28.0|              Canada|\n",
      "|2021-05-01 04:32:25|c9a899f6|     20| 28.0|United States of ...|\n",
      "|2021-05-01 04:48:06|d15f0e77|     20| 28.0|United States of ...|\n",
      "|2021-05-01 05:00:49|032e717b|     20| 28.0|              Turkey|\n",
      "|2021-05-01 06:20:44|a8558738|     20| 28.0|United States of ...|\n",
      "|2021-05-01 06:46:35|b0ef795f|     20| 28.0|         Philippines|\n",
      "|2021-05-01 07:33:54|c46cc3da|     20| 28.0|United States of ...|\n",
      "|2021-05-01 09:14:11|54bd51eb|     20| 28.0|              Brazil|\n",
      "|2021-05-01 10:01:44|c52587cc|     20| 28.0|              Canada|\n",
      "+-------------------+--------+-------+-----+--------------------+\n",
      "only showing top 20 rows\n",
      "\n"
     ]
    }
   ],
   "source": [
    "dt_clean.show()"
   ]
  },
  {
   "cell_type": "code",
   "execution_count": 41,
   "id": "dc794f31",
   "metadata": {},
   "outputs": [
    {
     "name": "stdout",
     "output_type": "stream",
     "text": [
      "root\n",
      " |-- timestamp: timestamp (nullable = true)\n",
      " |-- user_id: string (nullable = true)\n",
      " |-- book_id: integer (nullable = true)\n",
      " |-- price: double (nullable = true)\n",
      " |-- Country: string (nullable = true)\n",
      "\n"
     ]
    }
   ],
   "source": [
    "dt_clean.printSchema()"
   ]
  },
  {
   "cell_type": "code",
   "execution_count": 42,
   "id": "877616fe",
   "metadata": {},
   "outputs": [
    {
     "name": "stderr",
     "output_type": "stream",
     "text": [
      "\r",
      "[Stage 50:=============================>                            (1 + 1) / 2]\r",
      "\r",
      "                                                                                \r"
     ]
    },
    {
     "data": {
      "text/plain": [
       "499996"
      ]
     },
     "execution_count": 42,
     "metadata": {},
     "output_type": "execute_result"
    }
   ],
   "source": [
    "dt_clean.where(dt_clean['user_id'].rlike(\"^[a-z0-9]{8}$\")).count()"
   ]
  },
  {
   "cell_type": "code",
   "execution_count": 43,
   "id": "bc766c45",
   "metadata": {},
   "outputs": [
    {
     "name": "stderr",
     "output_type": "stream",
     "text": [
      "[Stage 54:=============================>                            (1 + 1) / 2]\r"
     ]
    },
    {
     "name": "stdout",
     "output_type": "stream",
     "text": [
      "+-------------------+----------+-------+-----+--------------------+\n",
      "|          timestamp|   user_id|book_id|price|             Country|\n",
      "+-------------------+----------+-------+-----+--------------------+\n",
      "|2021-05-01 14:41:20|      null|    516|27.37|              Brazil|\n",
      "|2021-06-30 02:27:00|      null|   1390|27.99|               Japan|\n",
      "|2021-06-19 16:00:22|ca86d17200|   2269|35.71|United States of ...|\n",
      "|2021-07-15 18:53:09|ca86d17200|    322|30.79|United States of ...|\n",
      "+-------------------+----------+-------+-----+--------------------+\n",
      "\n"
     ]
    },
    {
     "name": "stderr",
     "output_type": "stream",
     "text": [
      "\r",
      "                                                                                \r"
     ]
    }
   ],
   "source": [
    "dt_correct_userid = dt_clean.filter(dt_clean[\"user_id\"].rlike(\"^[a-z0-9]{8}$\"))\n",
    "dt_incorrect_userid = dt_clean.subtract(dt_correct_userid)\n",
    "\n",
    "dt_incorrect_userid.show(10)"
   ]
  },
  {
   "cell_type": "code",
   "execution_count": 44,
   "id": "cffba2eb",
   "metadata": {},
   "outputs": [],
   "source": [
    "dt_clean_userid = dt_clean.withColumn(\"user_id_update\", when(dt_clean['user_id'] == 'ca86d17200', 'ca86d172').otherwise(dt_clean['user_id']))"
   ]
  },
  {
   "cell_type": "code",
   "execution_count": 45,
   "id": "c5317358",
   "metadata": {},
   "outputs": [],
   "source": [
    "dt_correct_userid = dt_clean_userid.filter(dt_clean_userid[\"user_id\"].rlike(\"^[a-z0-9]{8}$\"))\n",
    "dt_incorrect_userid = dt_clean_userid.subtract(dt_correct_userid)\n",
    "dt_clean = dt_clean_userid.drop(\"user_id\").withColumnRenamed('user_id_update', 'user_id')"
   ]
  },
  {
   "cell_type": "code",
   "execution_count": 46,
   "id": "bc65d41b",
   "metadata": {},
   "outputs": [],
   "source": [
    "dt_clean_userid = dt_clean.withColumn(\"user_id_update\", when(dt_clean['user_id'].isNull(), '00000000').otherwise(dt_clean['user_id']))\n",
    "dt_clean = dt_clean_userid.drop(\"user_id\").withColumnRenamed('user_id_update', 'user_id')"
   ]
  },
  {
   "cell_type": "code",
   "execution_count": 47,
   "id": "c4078809",
   "metadata": {},
   "outputs": [
    {
     "name": "stderr",
     "output_type": "stream",
     "text": [
      "\r",
      "[Stage 59:>                                                         (0 + 1) / 1]\r",
      "\r",
      "                                                                                \r"
     ]
    },
    {
     "name": "stdout",
     "output_type": "stream",
     "text": [
      "+---------+-------+-----+-------+-------+\n",
      "|timestamp|book_id|price|Country|user_id|\n",
      "+---------+-------+-----+-------+-------+\n",
      "+---------+-------+-----+-------+-------+\n",
      "\n"
     ]
    }
   ],
   "source": [
    "dt_clean.where( dt_clean.user_id.isNull() ).show()"
   ]
  },
  {
   "cell_type": "code",
   "execution_count": 50,
   "id": "9e6619fb",
   "metadata": {},
   "outputs": [
    {
     "name": "stderr",
     "output_type": "stream",
     "text": [
      "                                                                                \r"
     ]
    }
   ],
   "source": [
    "dt_clean.write.mode(\"overwrite\").csv('gs://processed_awoy/Cleaned_data.csv', header = True)"
   ]
  },
  {
   "cell_type": "code",
   "execution_count": 1,
   "id": "90f057bc",
   "metadata": {},
   "outputs": [
    {
     "name": "stdout",
     "output_type": "stream",
     "text": [
      "processed finnish awoy\n"
     ]
    }
   ],
   "source": [
    "print(\"processed finnish awoy12334\")"
   ]
  },
  {
   "cell_type": "code",
   "execution_count": null,
   "id": "879f5c6d",
   "metadata": {},
   "outputs": [],
   "source": []
  }
 ],
 "metadata": {
  "kernelspec": {
   "display_name": "PySpark",
   "language": "python",
   "name": "pyspark"
  },
  "language_info": {
   "codemirror_mode": {
    "name": "ipython",
    "version": 3
   },
   "file_extension": ".py",
   "mimetype": "text/x-python",
   "name": "python",
   "nbconvert_exporter": "python",
   "pygments_lexer": "ipython3",
   "version": "3.8.12"
  }
 },
 "nbformat": 4,
 "nbformat_minor": 5
}